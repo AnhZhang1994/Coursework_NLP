{
 "cells": [
  {
   "cell_type": "code",
   "execution_count": 1,
   "id": "fc655440",
   "metadata": {},
   "outputs": [],
   "source": [
    "import pandas as pd\n",
    "tag_data = pd.read_csv('./tag_bio_0608.csv')\n",
    "tag_data.columns = ['word', 'bio_tag']"
   ]
  },
  {
   "cell_type": "code",
   "execution_count": 2,
   "id": "d2112fdd",
   "metadata": {},
   "outputs": [
    {
     "name": "stdout",
     "output_type": "stream",
     "text": [
      "<class 'pandas.core.frame.DataFrame'>\n"
     ]
    }
   ],
   "source": [
    "print(type(tag_data))"
   ]
  },
  {
   "cell_type": "code",
   "execution_count": 3,
   "id": "edbcc123",
   "metadata": {},
   "outputs": [],
   "source": [
    "data = []\n",
    "mon_data = []\n",
    "\n",
    "for i, d in tag_data.iterrows():\n",
    "    temp = []\n",
    "    if d['bio_tag'].find(\"MON\") != 0:\n",
    "        temp.append(d['word'])\n",
    "        temp.append(d['bio_tag'])\n",
    "        data.append(temp)\n",
    "    else:\n",
    "        temp.append(d['word'])\n",
    "        temp.append(d['bio_tag'])\n",
    "        mon_data.append(temp)"
   ]
  },
  {
   "cell_type": "code",
   "execution_count": 5,
   "id": "bc0d2d0e",
   "metadata": {},
   "outputs": [
    {
     "name": "stdout",
     "output_type": "stream",
     "text": [
      "[['경력', 'O'], ['증명서', 'O'], ['인적사항', 'O'], ['이름', 'O'], ['박준호', 'PER_B'], ['학력', 'O'], ['청란여자고등학교', 'ADDR_B'], ['졸업', 'O'], ['소속', 'O'], ['기계항공공학부(우주항공공학전공)', 'O']]\n"
     ]
    }
   ],
   "source": [
    "print(data[:10])"
   ]
  },
  {
   "cell_type": "code",
   "execution_count": 6,
   "id": "8aac0e8d",
   "metadata": {},
   "outputs": [
    {
     "name": "stdout",
     "output_type": "stream",
     "text": [
      "[['11800000.0', 'MON_B'], ['61000000.0', 'MON_B'], ['163920000.0', 'MON_B'], ['21970000.0', 'MON_B'], ['19140000.0', 'MON_B'], ['49720000.0', 'MON_B'], ['31758000.0', 'MON_B'], ['42163000.0', 'MON_B'], ['59202000.0', 'MON_B'], ['16137000.0', 'MON_B']]\n"
     ]
    }
   ],
   "source": [
    "print(mon_data[:10])"
   ]
  },
  {
   "cell_type": "code",
   "execution_count": 7,
   "id": "f032493b",
   "metadata": {},
   "outputs": [],
   "source": [
    "df = pd.DataFrame(data, columns = ['word', 'bio_tag'])\n",
    "mon_df = pd.DataFrame(mon_data, columns = ['word', 'bio_tag'])"
   ]
  },
  {
   "cell_type": "code",
   "execution_count": 9,
   "id": "3a1f4312",
   "metadata": {},
   "outputs": [],
   "source": [
    "df.to_csv(\"./default.csv\", mode='w', index = False)\n",
    "mon_df.to_csv(\"./mon.csv\", mode='w', index = False)"
   ]
  },
  {
   "cell_type": "code",
   "execution_count": null,
   "id": "9b1b1339",
   "metadata": {},
   "outputs": [],
   "source": []
  }
 ],
 "metadata": {
  "kernelspec": {
   "display_name": "Python 3 (ipykernel)",
   "language": "python",
   "name": "python3"
  },
  "language_info": {
   "codemirror_mode": {
    "name": "ipython",
    "version": 3
   },
   "file_extension": ".py",
   "mimetype": "text/x-python",
   "name": "python",
   "nbconvert_exporter": "python",
   "pygments_lexer": "ipython3",
   "version": "3.9.7"
  }
 },
 "nbformat": 4,
 "nbformat_minor": 5
}
