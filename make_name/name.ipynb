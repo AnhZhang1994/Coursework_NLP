{
 "cells": [
  {
   "cell_type": "code",
   "execution_count": 30,
   "id": "5d66f232",
   "metadata": {},
   "outputs": [],
   "source": [
    "import os\n",
    "import pandas as pd"
   ]
  },
  {
   "cell_type": "code",
   "execution_count": 31,
   "id": "11e854c8",
   "metadata": {},
   "outputs": [],
   "source": [
    "file = open('./name.txt', 'r')\n",
    "\n",
    "last_name = ['김', '이', '박', '최', '정', '고', '강', '조', '윤', '장', '한', '오',\n",
    "             '서', '신', '권', '황', '안', '송', '전', '유', '문', '배', '손', '백']\n",
    "name = []\n",
    "\n",
    "while True:\n",
    "    line = file.readline()\n",
    "    data = line.split('\\t')[0]\n",
    "    for ln in last_name:\n",
    "        name.append(ln+data)\n",
    "    if not line:\n",
    "        break\n",
    "    \n",
    "file.close()"
   ]
  },
  {
   "cell_type": "code",
   "execution_count": 32,
   "id": "007e18af",
   "metadata": {},
   "outputs": [
    {
     "name": "stdout",
     "output_type": "stream",
     "text": [
      "436824\n"
     ]
    }
   ],
   "source": [
    "print(len(name))"
   ]
  },
  {
   "cell_type": "code",
   "execution_count": 33,
   "id": "d80563c3",
   "metadata": {},
   "outputs": [],
   "source": [
    "f = open('./name_tag.txt', 'w')\n",
    "\n",
    "for d in name:\n",
    "    f.write(d+',PER\\n')\n",
    "    \n",
    "f.close()"
   ]
  },
  {
   "cell_type": "code",
   "execution_count": null,
   "id": "0ead0a67",
   "metadata": {},
   "outputs": [],
   "source": []
  }
 ],
 "metadata": {
  "kernelspec": {
   "display_name": "Python 3 (ipykernel)",
   "language": "python",
   "name": "python3"
  },
  "language_info": {
   "codemirror_mode": {
    "name": "ipython",
    "version": 3
   },
   "file_extension": ".py",
   "mimetype": "text/x-python",
   "name": "python",
   "nbconvert_exporter": "python",
   "pygments_lexer": "ipython3",
   "version": "3.9.7"
  }
 },
 "nbformat": 4,
 "nbformat_minor": 5
}
